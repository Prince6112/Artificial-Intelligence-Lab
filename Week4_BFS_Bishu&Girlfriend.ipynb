{
 "cells": [
  {
   "cell_type": "markdown",
   "metadata": {},
   "source": [
    "# Week 4.1 - Implementation of BFS\n",
    "\n",
    "## Breadth First Search\n",
    "As the name BFS suggests, you are required to traverse the graph breadthwise as follows:\n",
    "\n",
    "First move horizontally and visit all the nodes of the current layer\n",
    "Move to the next layer"
   ]
  },
  {
   "cell_type": "markdown",
   "metadata": {},
   "source": [
    "# Question - Bishu and his Girlfriend\n",
    "\n",
    "There are N countries {1,2,3,4....N} and N-1 roads(i.e depicting a tree)\n",
    "\n",
    "Bishu lives in the Country 1 so this can be considered as the root of the tree.\n",
    "\n",
    "Now there are Q girls who lives in various countries (not equal to 1) .\n",
    "\n",
    "All of them want to propose Bishu.But Bishu has some condition.\n",
    "\n",
    "He will accept the proposal of the girl who lives at minimum distance from his country.\n",
    "\n",
    "Now the distance between two countries is the number of roads between them.\n",
    "\n",
    "If two or more girls are at the same minimum distance then he will accept the proposal of the girl who lives in a country with minimum id.\n",
    "\n",
    "No two girls are at same country.\n",
    "\n",
    "Input: First line consists of N,i.e number of countries Next N-1 lines follow the type u v which denotes there is a road between u and v. Next line consists of Q Next Q lines consists of x where the girls live.\n",
    "\n",
    "Output: Print the id of the country of the girl who will be accepted.\n",
    "\n",
    "Help Him!!!!!\n",
    "\n",
    "contraints: 2<=N<=1000 1<=u,v<=N 1<=Q<=(N-1)"
   ]
  },
  {
   "cell_type": "code",
   "execution_count": 22,
   "metadata": {},
   "outputs": [],
   "source": [
    "#Initiating class graph\n",
    "\n",
    "class graph:\n",
    "\n",
    "    graph_dict={}\n",
    "\n",
    "    #Function to add edges to the graph\n",
    "    def addedge(self,node,neighbour):\n",
    "        if node not in self.graph_dict:\n",
    "            self.graph_dict[node]=[neighbour]\n",
    "        else:\n",
    "            self.graph_dict[node].append(neighbour)\n",
    "        if neighbour not in self.graph_dict:\n",
    "            self.graph_dict[neighbour]=[node]\n",
    "        else:\n",
    "            self.graph_dict[neighbour].append(node)\n",
    "    \n",
    "    \n",
    "    #Function to do Breadth First Search\n",
    "    def BFS(self,s):\n",
    "        visited={}\n",
    "        girlin=\"\"\n",
    "        for i in self.graph_dict:\n",
    "            visited[i]=False\n",
    "        \n",
    "        queue=[]\n",
    "        queue.append(s)\n",
    "        visited[s]=True\n",
    "\n",
    "        while(len(queue)!=0):\n",
    "            s=queue.pop(0)\n",
    "            pathbfs.append(s)\n",
    "            for nodes in self.graph_dict[s]:\n",
    "                if visited[nodes]!=True:\n",
    "                    visited[nodes]=True\n",
    "                    queue.append(nodes)\n",
    "            if s in girl:\n",
    "                if girlin==\"\":\n",
    "                    girlin=s\n",
    "        return(girlin)"
   ]
  },
  {
   "cell_type": "code",
   "execution_count": 23,
   "metadata": {},
   "outputs": [
    {
     "name": "stdout",
     "output_type": "stream",
     "text": [
      "Enter the number of nodes -6\n",
      "Enter the edges -1 2 \n",
      "Enter the edges -1 3\n",
      "Enter the edges -1 4\n",
      "Enter the edges -2 5\n",
      "Enter the edges -2 6\n",
      "\n",
      "The number of girls -4\n",
      "Country which the girl is in -3\n",
      "Country which the girl is in -4\n",
      "Country which the girl is in -5\n",
      "Country which the girl is in -6\n",
      "\n",
      "The girl living the closest to him is in country no.3\n"
     ]
    }
   ],
   "source": [
    "#initiating graph and pathbfs list\n",
    "g=graph()\n",
    "pathbfs=[]\n",
    "\n",
    "#adding edges to the graph\n",
    "n=int(input(\"Enter the number of nodes -\"))\n",
    "for x in range(n-1):\n",
    "    y=input(\"Enter the edge -\").split()\n",
    "    g.addedge(y[0],y[1])\n",
    "\n",
    "\n",
    "girl=[]\n",
    "q=int(input(\"\\nThe number of girls -\"))\n",
    "\n",
    "#marking where girl friends are in\n",
    "for x in range(q):\n",
    "    country=input(\"Country which the girl is in -\")\n",
    "    girl.append(country)\n",
    "    \n",
    "\n",
    "#initiating BFS and finding the girl closest to Bishu\n",
    "print(\"\\nThe girl living the closest to him is in country no.\"+g.BFS('1'))\n",
    "    "
   ]
  },
  {
   "cell_type": "code",
   "execution_count": 21,
   "metadata": {},
   "outputs": [
    {
     "name": "stdout",
     "output_type": "stream",
     "text": [
      "1-> 2-> 3-> 4-> 5-> 6-> end\n"
     ]
    }
   ],
   "source": [
    "#printing the Breadth First Search Path\n",
    "for node in pathbfs:\n",
    "    print(node+\"->\",end=' ')\n",
    "print('end')"
   ]
  },
  {
   "cell_type": "markdown",
   "metadata": {},
   "source": [
    "## Result\n",
    "The given problem is solved using BFS because BFS would give the best solution for the problem"
   ]
  }
 ],
 "metadata": {
  "kernelspec": {
   "display_name": "Python 3",
   "language": "python",
   "name": "python3"
  },
  "language_info": {
   "codemirror_mode": {
    "name": "ipython",
    "version": 3
   },
   "file_extension": ".py",
   "mimetype": "text/x-python",
   "name": "python",
   "nbconvert_exporter": "python",
   "pygments_lexer": "ipython3",
   "version": "3.8.5"
  }
 },
 "nbformat": 4,
 "nbformat_minor": 4
}
