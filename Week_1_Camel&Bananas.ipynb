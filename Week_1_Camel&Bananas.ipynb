{
  "nbformat": 4,
  "nbformat_minor": 0,
  "metadata": {
    "colab": {
      "name": "Week_1_Camel&Bananas.ipynb",
      "provenance": [],
      "collapsed_sections": []
    },
    "kernelspec": {
      "name": "python3",
      "display_name": "Python 3"
    }
  },
  "cells": [
    {
      "cell_type": "markdown",
      "metadata": {
        "id": "TxEz7uvuHRXH"
      },
      "source": [
        "# Week 1b : Implementation of toy problems.\r\n",
        "\r\n",
        "## Camel - Bananas problem is stated as follows.\r\n",
        "A person has 3000 bananas and a camel. The person wants to transport the maximum number of bananas to a destination which is 1000 KMs away, using only the camel as a mode of transportation. The camel cannot carry more than 1000 bananas at a time and eats a banana every km it travels.\r\n",
        "\r\n",
        "## To find\r\n",
        "What is the maximum number of bananas that can be transferred to the destination using only camel (no other mode of transportation is allowed).\r\n"
      ]
    },
    {
      "cell_type": "markdown",
      "metadata": {
        "id": "6s_PN7WGIFKO"
      },
      "source": [
        "# Code\r\n",
        "Solve the water Camel and Bananas problem"
      ]
    },
    {
      "cell_type": "code",
      "metadata": {
        "colab": {
          "base_uri": "https://localhost:8080/"
        },
        "id": "ryaRi-dqYYN4",
        "outputId": "54fd81e9-471b-4242-a578-5bdddb10bd1f"
      },
      "source": [
        "#Getting the input from the users\r\n",
        "\r\n",
        "dist=int(input(\"Enter the distance to the market :\")) #Distance\r\n",
        "total=int(input(\"Enter the total bananas initially :\")) #Total bananas\r\n",
        "maxload=int(input(\"Enter the max load capacity of the camel :\")) #Maximum load of the camel"
      ],
      "execution_count": 1,
      "outputs": [
        {
          "output_type": "stream",
          "text": [
            "Enter the distance to the market :1000\n",
            "Enter the total bananas initially :3000\n",
            "Enter the max load capacity of the camel :1000\n"
          ],
          "name": "stdout"
        }
      ]
    },
    {
      "cell_type": "code",
      "metadata": {
        "id": "ecCElZV1IeHT"
      },
      "source": [
        "#Initializing other parameters\r\n",
        "eachkm=1 \r\n",
        "totalmoved=0\r\n",
        "\r\n",
        "#Midpoint if found for efficient computing\r\n",
        "midpoints=total//dist\r\n"
      ],
      "execution_count": 2,
      "outputs": []
    },
    {
      "cell_type": "code",
      "metadata": {
        "colab": {
          "base_uri": "https://localhost:8080/"
        },
        "id": "YKekqBkkYwEY",
        "outputId": "876404b5-a5f8-472b-8b54-b0af767f5232"
      },
      "source": [
        "#Wrting the function to find the number of maximum bananas transfered to the destination\r\n",
        "#The below code reproduces the mathematical function needed to compute the solution\r\n",
        "'''\r\n",
        "3000-5(distance)=2000\r\n",
        "2000-3(distance)=1000\r\n",
        "1000-distance=Maximum Bananas Left\r\n",
        "'''\r\n",
        "\r\n",
        "for x in range(midpoints,1,-1):\r\n",
        "  trips=2*x-1\r\n",
        "  movednow=((total-maxload)-total)/trips\r\n",
        "  total=total-maxload\r\n",
        "  totalmoved=totalmoved+movednow\r\n",
        "\r\n",
        "bananas=round(maxload-abs(totalmoved))\r\n",
        "print(\"Total remaining banans to the destination is \",bananas)\r\n",
        "  \r\n"
      ],
      "execution_count": 3,
      "outputs": [
        {
          "output_type": "stream",
          "text": [
            "Total remaining banans to the destination is  467\n"
          ],
          "name": "stdout"
        }
      ]
    },
    {
      "cell_type": "markdown",
      "metadata": {
        "id": "kVsfpwEQJJlG"
      },
      "source": [
        "## Results\r\n",
        "The camel can transfer a maximum of 467 bananas to the destination"
      ]
    }
  ]
}