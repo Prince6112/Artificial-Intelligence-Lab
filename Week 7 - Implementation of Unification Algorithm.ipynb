{
 "cells": [
  {
   "cell_type": "markdown",
   "metadata": {},
   "source": [
    "# Unification Algorithm - Simple Code"
   ]
  },
  {
   "cell_type": "markdown",
   "metadata": {},
   "source": [
    "## What is Unification?\n",
    "-Unification is a process of making two different logical atomic expressions identical by finding a substitution. \n",
    "\n",
    "-Unification depends on the substitution process.\n",
    "\n",
    "-It takes two literals as input and makes them identical using substitution.\n",
    "\n",
    "-Let Ψ1 and Ψ2 be two atomic sentences and 𝜎 be a unifier such that, Ψ1𝜎 = Ψ2𝜎, then it can be expressed as UNIFY(Ψ1, Ψ2)."
   ]
  },
  {
   "cell_type": "markdown",
   "metadata": {},
   "source": [
    "## Implementation of the Algorithm\n",
    "\n",
    "**Step.1**: Initialize the substitution set to be empty.\n",
    "\n",
    "**Step.2**: Recursively unify atomic sentences:\n",
    "\n",
    "Check for Identical expression match.\n",
    "\n",
    "If one expression is a variable vi, and the other is a term ti which does not contain variable vi, then:\n",
    "Substitute ti / vi in the existing substitutions\n",
    "Add ti /vi to the substitution setlist.\n",
    "\n",
    "If both the expressions are functions, then function name must be similar, and the number of arguments must be the same in both the expression."
   ]
  },
  {
   "cell_type": "markdown",
   "metadata": {},
   "source": [
    "## Unification Function"
   ]
  },
  {
   "cell_type": "code",
   "execution_count": 1,
   "metadata": {},
   "outputs": [],
   "source": [
    "#Code for unification which takes two inputs\n",
    "def unify(p1,p2):\n",
    "\n",
    "    #Substitution List\n",
    "    sub=[]\n",
    "    \n",
    "    for x in range(0,min(len(p1),len(p2))):\n",
    "        \n",
    "        #comparing each argument of two inputs\n",
    "        v1=p1[x].split(\" \")\n",
    "        v2=p2[x].split(\" \")\n",
    "        \n",
    "        #if the argument consists of a subfunction\n",
    "        if(len(v1)>=2 and len(v2)>=2):\n",
    "            if(v1[0]!=v2[0]):\n",
    "                print(\"Since the predicate is different in inner attribute, there can be no unification\")\n",
    "                return\n",
    "            unify(v1[1:],v2[1:])\n",
    "            break\n",
    "        \n",
    "        #If there is a repeatition of arguments\n",
    "        if p1[x] in p2 or p2[x] in p1:\n",
    "            print(\"This expressions can not be unified because they have similar variables\")\n",
    "            return\n",
    "            \n",
    "        #if both the arguments are the same\n",
    "        elif(v1==v2):\n",
    "            continue \n",
    "        \n",
    "        #finding the change which needs to be made\n",
    "        else:\n",
    "            change=p1[x]+\"/\"+p2[x]\n",
    "            sub.append(change)\n",
    "            for y in range(0,len(p2)):\n",
    "                if (p2[y]==p2[x]):\n",
    "                    p2[y]=p2[x]\n",
    "                \n",
    "    \n",
    "    #printing the output\n",
    "    if(sub!=[]):\n",
    "        print(\"\\n\\nThe most general unifier is - \",sub)\n",
    "    return\n",
    "        "
   ]
  },
  {
   "cell_type": "markdown",
   "metadata": {},
   "source": [
    "## Exercise 1\n",
    "1. p(foo(X), Y) and p(a, b)"
   ]
  },
  {
   "cell_type": "code",
   "execution_count": 2,
   "metadata": {
    "scrolled": true
   },
   "outputs": [
    {
     "name": "stdout",
     "output_type": "stream",
     "text": [
      "predicate 1: P\n",
      "Enter the number of Arguments for expression ['P'] : 2\n",
      "Enter Argument 1: foo(x)\n",
      "Enter Argument 2: y\n",
      "['P', 'foo(x)', 'y']\n",
      "\n",
      "predicate 2: P\n",
      "Enter the number of Arguments for predicate ['P'] : 2\n",
      "Enter Argument 1: a\n",
      "Enter Argument 2: b\n",
      "['P', 'a', 'b']\n",
      "\n",
      "\n",
      "The most general unifier is -  ['foo(x)/a', 'y/b']\n"
     ]
    }
   ],
   "source": [
    "#Input for the first expression\n",
    "p1=[(input(\"predicate 1: \"))]\n",
    "n1=input(\"Enter the number of Arguments for expression {} : \".format(p1))\n",
    "\n",
    "#input the arguments for the first expression\n",
    "for x in range(1,int(n1)+1):\n",
    "    ins=input(\"Enter Argument {}: \".format(x))\n",
    "    p1.append(ins)\n",
    "\n",
    "#printing first expression\n",
    "print(p1)\n",
    "\n",
    "\n",
    "#Input for the second expression\n",
    "p2=[(input(\"\\npredicate 2: \"))]\n",
    "n2=input(\"Enter the number of Arguments for predicate {} : \".format(p2))\n",
    "\n",
    "#input the arguments for the second expression\n",
    "for x in range(1,int(n2)+1):\n",
    "    ins=input(\"Enter Argument {}: \".format(x))\n",
    "    p2.append(ins)\n",
    "\n",
    "#printing second expression\n",
    "print(p2)\n",
    "\n",
    "if(p1[0]!=p2[0]):\n",
    "    print(\"Since the predicate is different, there can be no unification\")\n",
    "elif(n1!=n2):\n",
    "    print(\"Number of Arguments in both expressions is not identical\")\n",
    "else:\n",
    "    unify(p1[1:],p2[1:])"
   ]
  },
  {
   "cell_type": "markdown",
   "metadata": {},
   "source": [
    "## Exercise 2\n",
    "2. p(Y, Y) and p(a, Y)"
   ]
  },
  {
   "cell_type": "code",
   "execution_count": 3,
   "metadata": {
    "scrolled": true
   },
   "outputs": [
    {
     "name": "stdout",
     "output_type": "stream",
     "text": [
      "predicate 1: p\n",
      "Enter the number of Arguments for expression ['p'] : 2\n",
      "Enter Argument 1: y\n",
      "Enter Argument 2: y\n",
      "['p', 'y', 'y']\n",
      "\n",
      "predicate 2: p\n",
      "Enter the number of Arguments for predicate ['p'] : 2\n",
      "Enter Argument 1: a\n",
      "Enter Argument 2: y\n",
      "['p', 'a', 'y']\n",
      "This expressions can not be unified because they have similar variables\n"
     ]
    }
   ],
   "source": [
    "#Input for the first expression\n",
    "p1=[(input(\"predicate 1: \"))]\n",
    "n1=input(\"Enter the number of Arguments for expression {} : \".format(p1))\n",
    "\n",
    "#input the arguments for the first expression\n",
    "for x in range(1,int(n1)+1):\n",
    "    ins=input(\"Enter Argument {}: \".format(x))\n",
    "    p1.append(ins)\n",
    "\n",
    "#printing first expression\n",
    "print(p1)\n",
    "\n",
    "\n",
    "#Input for the second expression\n",
    "p2=[(input(\"\\npredicate 2: \"))]\n",
    "n2=input(\"Enter the number of Arguments for predicate {} : \".format(p2))\n",
    "\n",
    "#input the arguments for the second expression\n",
    "for x in range(1,int(n2)+1):\n",
    "    ins=input(\"Enter Argument {}: \".format(x))\n",
    "    p2.append(ins)\n",
    "\n",
    "#printing second expression\n",
    "print(p2)\n",
    "\n",
    "if(p1[0]!=p2[0]):\n",
    "    print(\"Since the predicate is different, there can be no unification\")\n",
    "elif(n1!=n2):\n",
    "    print(\"Number of Arguments in both expressions is not identical\")\n",
    "else:\n",
    "    unify(p1[1:],p2[1:])"
   ]
  },
  {
   "cell_type": "markdown",
   "metadata": {},
   "source": [
    "## Exercise 3\n",
    "3. Father(Richard, John), Father(Richard, x))"
   ]
  },
  {
   "cell_type": "code",
   "execution_count": 5,
   "metadata": {},
   "outputs": [
    {
     "name": "stdout",
     "output_type": "stream",
     "text": [
      "predicate 1: father\n",
      "Enter the number of Arguments for expression ['father'] : 1\n",
      "Enter Argument 1: richard (john)\n",
      "['father', 'richard (john)']\n",
      "\n",
      "predicate 2: father\n",
      "Enter the number of Arguments for predicate ['father'] : 1\n",
      "Enter Argument 1: richard (x)\n",
      "['father', 'richard (x)']\n",
      "\n",
      "\n",
      "The most general unifier is -  ['(john)/(x)']\n"
     ]
    }
   ],
   "source": [
    "#Input for the first expression\n",
    "p1=[(input(\"predicate 1: \"))]\n",
    "n1=input(\"Enter the number of Arguments for expression {} : \".format(p1))\n",
    "\n",
    "#input the arguments for the first expression\n",
    "for x in range(1,int(n1)+1):\n",
    "    ins=input(\"Enter Argument {}: \".format(x))\n",
    "    p1.append(ins)\n",
    "\n",
    "#printing first expression\n",
    "print(p1)\n",
    "\n",
    "\n",
    "#Input for the second expression\n",
    "p2=[(input(\"\\npredicate 2: \"))]\n",
    "n2=input(\"Enter the number of Arguments for predicate {} : \".format(p2))\n",
    "\n",
    "#input the arguments for the second expression\n",
    "for x in range(1,int(n2)+1):\n",
    "    ins=input(\"Enter Argument {}: \".format(x))\n",
    "    p2.append(ins)\n",
    "\n",
    "#printing second expression\n",
    "print(p2)\n",
    "\n",
    "if(p1[0]!=p2[0]):\n",
    "    print(\"Since the predicate is different, there can be no unification\")\n",
    "elif(n1!=n2):\n",
    "    print(\"Number of Arguments in both expressions is not identical\")\n",
    "else:\n",
    "    unify(p1[1:],p2[1:])"
   ]
  },
  {
   "cell_type": "markdown",
   "metadata": {},
   "source": [
    "## Result\n",
    "The unification algorithm is partially successfully implemented using python"
   ]
  }
 ],
 "metadata": {
  "kernelspec": {
   "display_name": "Python 3",
   "language": "python",
   "name": "python3"
  },
  "language_info": {
   "codemirror_mode": {
    "name": "ipython",
    "version": 3
   },
   "file_extension": ".py",
   "mimetype": "text/x-python",
   "name": "python",
   "nbconvert_exporter": "python",
   "pygments_lexer": "ipython3",
   "version": "3.8.5"
  }
 },
 "nbformat": 4,
 "nbformat_minor": 4
}
