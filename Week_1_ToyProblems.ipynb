{
 "cells": [
  {
   "cell_type": "markdown",
   "metadata": {},
   "source": [
    "# Week 1 : Implementation of toy problems.\n"
   ]
  },
  {
   "cell_type": "markdown",
   "metadata": {},
   "source": [
    "## Water Jug Problem is stated as follows.\n",
    "    1)There are two jugs of volume X litres and Y litres. Neither has any measuring mark on it.\n",
    "    2)There is a pump that can be used to fill the jugs with water.\n",
    "    3)How can you get exactly Z litres of water into the X litres jug.\n",
    "    4)Assuming that we have unlimited supply of water.\n",
    "\n",
    "## To Code\n",
    "    * Draw the state space tree (sequence) diagram and Implement using Python programming (Preferably Jupyter Notebook). \n",
    "    * Consider getting inputs from user.\n",
    "    * The written codes need to be articulated with appropriate explanation (comments) about the logic, states and process  involved. \n",
    "    *The solution should be shown in detail for each iteration involved in the process."
   ]
  },
  {
   "cell_type": "markdown",
   "metadata": {},
   "source": [
    "### AIM\n",
    "Given two jug measurements from the user, use python programming to implemet the water jug problem. "
   ]
  },
  {
   "cell_type": "markdown",
   "metadata": {},
   "source": [
    "\n",
    "## Actions\n",
    "    1)Empty a Jug\n",
    "    2)Fill a Jug\n",
    "    3)Pour water from one jug to the other until one of the jugs is either empty or full."
   ]
  },
  {
   "cell_type": "markdown",
   "metadata": {},
   "source": [
    "## Alogrithm\n",
    "    1) Fill the m litre jug and empty it into n liter jug.\n",
    "    2) Whenever the m liter jug becomes empty fill it.\n",
    "    3) Whenever the n liter jug becomes full empty it.\n",
    "    4) Repeat steps 1,2,3 till either n liter jug or the m liter jug contains d litres of water."
   ]
  },
  {
   "cell_type": "markdown",
   "metadata": {},
   "source": [
    " ## Coding"
   ]
  },
  {
   "cell_type": "code",
   "execution_count": 1,
   "metadata": {},
   "outputs": [],
   "source": [
    "def Func(toJugMax, fromJugMax,Value):\n",
    "    # Initialize current amount of water in source and destination jugs\n",
    "    print(\"(0,0)\",end=\"-> \")\n",
    "    fromJug = fromJugMax\n",
    "    toJug  = 0\n",
    "    print(\"({},{})\".format(fromJug,toJug),end=\"-> \")\n",
    " \n",
    "    # Initialize Counts required\n",
    "    Count = 1\n",
    "    \n",
    "    while ((fromJug  is not Value) and (toJug is not Value)):\n",
    "\n",
    "         \n",
    "        # Find the maximum amount that can be\n",
    "        # poured\n",
    "        temp = min(fromJug, toJugMax-toJug)\n",
    " \n",
    "        # Pour 'temp' liter from 'fromJug' to 'toJug'\n",
    "        toJug = toJug + temp\n",
    "        fromJug = fromJug - temp\n",
    "        Count =  Count + 1\n",
    "        print(\"({},{})\".format(fromJug,toJug),end=\"-> \")\n",
    "        \n",
    "        #Breaking the loop if value is found\n",
    "        if ((fromJug ==Value) or (toJug ==Value)):\n",
    "            break\n",
    " \n",
    "        # Step 2 in Algorithm\n",
    "        if fromJug == 0:\n",
    "            fromJug = fromJugMax\n",
    "            Count =  Count + 1\n",
    "            print(\"({},{})\".format(fromJug,toJug),end=\"-> \")\n",
    " \n",
    "        # Step 3 in Algorithm\n",
    "        if toJug == toJugMax:\n",
    "            toJug = 0\n",
    "            Count =  Count + 1\n",
    "            print(\"({},{})\".format(fromJug,toJug),end=\"-> \")\n",
    "            \n",
    "    #Returning the number of steps\n",
    "    return Count"
   ]
  },
  {
   "cell_type": "markdown",
   "metadata": {},
   "source": [
    "### Getting Input from User "
   ]
  },
  {
   "cell_type": "code",
   "execution_count": 2,
   "metadata": {},
   "outputs": [
    {
     "name": "stdout",
     "output_type": "stream",
     "text": [
      "Enter the value of first Jug : 3\n",
      "Enter the value of Second Jug : 5\n",
      "Enter the value to be measured : 4\n",
      "(0,0)-> (5,0)-> (2,3)-> (2,0)-> (0,2)-> (5,2)-> (4,3)-> \n",
      "The number of steps required is  6\n"
     ]
    }
   ],
   "source": [
    "N=int(input(\"Enter the value of first Jug : \"))\n",
    "M=int(input(\"Enter the value of Second Jug : \"))\n",
    "\n",
    "value=int(input(\"Enter the value to be measured : \"))\n",
    "\n",
    "print(\"\\nThe number of steps required is \", Func(N,M,value))\n"
   ]
  },
  {
   "cell_type": "markdown",
   "metadata": {},
   "source": [
    "## Result\n",
    "The two jug problem is solved for any given user input while giving the process and the number of steps required"
   ]
  }
 ],
 "metadata": {
  "kernelspec": {
   "display_name": "Python 3",
   "language": "python",
   "name": "python3"
  },
  "language_info": {
   "codemirror_mode": {
    "name": "ipython",
    "version": 3
   },
   "file_extension": ".py",
   "mimetype": "text/x-python",
   "name": "python",
   "nbconvert_exporter": "python",
   "pygments_lexer": "ipython3",
   "version": "3.8.5"
  }
 },
 "nbformat": 4,
 "nbformat_minor": 4
}
